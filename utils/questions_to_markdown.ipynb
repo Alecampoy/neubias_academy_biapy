{
 "cells": [
  {
   "cell_type": "markdown",
   "metadata": {},
   "source": [
    "# Convert table of questions to Markdown\n",
    "\n",
    "This notebook can be use to transform a CSV file containing questions and answers to create a markdown file. The table should have four columns: ```Category name```, ```Question```, ```Answer```, ```Similar questions```. The questions and answers will be grouped according to their category. If a several questions are similar, the additional questions can be added in the ```Similar questions``` columns, separated by ```; ``` (don't forget the space after ```;```).\n",
    "\n",
    "To generate the CVS file, you can just export a Google Sheet using File->Download->Comma separated. An example of such a file can be found [here](https://docs.google.com/spreadsheets/d/1aL77bMOsQeYoWBA8_jZx_mu13KeL_bgJHNVMOWPHHHA/edit?usp=sharing)."
   ]
  },
  {
   "cell_type": "code",
   "execution_count": 1,
   "metadata": {},
   "outputs": [],
   "source": [
    "import pandas as pd\n",
    "import numpy as np\n",
    "from IPython.display import display, Markdown, Latex, HTML"
   ]
  },
  {
   "cell_type": "code",
   "execution_count": 2,
   "metadata": {},
   "outputs": [],
   "source": [
    "# import CSV. Use the appropriate path\n",
    "questions = pd.read_csv('questions.csv')\n",
    "\n",
    "# group questions by topic \n",
    "groups = questions.groupby('Category name')"
   ]
  },
  {
   "cell_type": "code",
   "execution_count": 3,
   "metadata": {},
   "outputs": [],
   "source": [
    "# creata a list of topics that should be ordered\n",
    "ordered_topics = ['Category3', 'Category1']\n",
    "\n",
    "# add any missing topic at the end of the list\n",
    "final_list = ordered_topics + [x for x in questions['Category name'].dropna().unique() if x not in ordered_topics]\n",
    "\n",
    "# keep only headers that are actually used\n",
    "final_list = [f for f in final_list if f in groups.groups.keys()]"
   ]
  },
  {
   "cell_type": "code",
   "execution_count": 4,
   "metadata": {},
   "outputs": [],
   "source": [
    "# add a specific suffix to tags, in case the same headers are used in multiple posts\n",
    "suffix = '_2'"
   ]
  },
  {
   "cell_type": "code",
   "execution_count": 5,
   "metadata": {
    "scrolled": true
   },
   "outputs": [],
   "source": [
    "# create content\n",
    "mdstring = '## Table of contents  \\n'\n",
    "for g in final_list:\n",
    "    mdstring +=\"* <a href=\\\"#\" + g.lower() + suffix + \"\\\">\" + g + \"</a>  \\n\"\n",
    "\n",
    "mdstring += '  \\n'\n",
    "for g in final_list:\n",
    "    \n",
    "    g2 = groups.get_group(g)\n",
    "    mdstring +=\"## <a name=\\\"\" + g.lower()+ suffix + \"\\\" /></a>\"+ g +\"  \\n\"\n",
    "        \n",
    "    for q in range(len(g2)):\n",
    "        if g2.iloc[q]['Question'] is not None and g2.iloc[q]['Answer'] is not None and g2.iloc[q]['Answer'] is not np.nan:\n",
    "            mdstring = mdstring + '**' + g2.iloc[q]['Question'] + '**  \\n  \\n'\n",
    "            \n",
    "            if not pd.isnull(g2.iloc[q]['Similar questions']):\n",
    "                additional_q = g2.iloc[q]['Similar questions']\n",
    "                additional_q = additional_q.split('; ')\n",
    "                for ad in additional_q:\n",
    "                    mdstring = mdstring + '**' + ad + '**  \\n  \\n'\n",
    "                \n",
    "            mdstring = mdstring + g2.iloc[q]['Answer'] + '  \\n  \\n'\n",
    "        "
   ]
  },
  {
   "cell_type": "code",
   "execution_count": 6,
   "metadata": {
    "scrolled": false
   },
   "outputs": [
    {
     "data": {
      "text/markdown": [
       "## Table of contents  \n",
       "* <a href=\"#category3_2\">Category3</a>  \n",
       "* <a href=\"#category1_2\">Category1</a>  \n",
       "* <a href=\"#category2_2\">Category2</a>  \n",
       "  \n",
       "## <a name=\"category3_2\" /></a>Category3  \n",
       "**Is this my fourth question?**  \n",
       "  \n",
       "Yes it is.  \n",
       "  \n",
       "**Is this my seventh question?**  \n",
       "  \n",
       "Yes it is.  \n",
       "  \n",
       "## <a name=\"category1_2\" /></a>Category1  \n",
       "**Is this my first question?**  \n",
       "  \n",
       "Yes it is.  \n",
       "  \n",
       "**Is this my second question?**  \n",
       "  \n",
       "Yes it is.  \n",
       "  \n",
       "**Is this my fifth question?**  \n",
       "  \n",
       "Yes it is.  \n",
       "  \n",
       "## <a name=\"category2_2\" /></a>Category2  \n",
       "**Is this my third question?**  \n",
       "  \n",
       "**I have a similar question?**  \n",
       "  \n",
       "**I also have a similar question?**  \n",
       "  \n",
       "Yes it is.  \n",
       "  \n",
       "**Is this my sixth question?**  \n",
       "  \n",
       "Yes it is.  \n",
       "  \n"
      ],
      "text/plain": [
       "<IPython.core.display.Markdown object>"
      ]
     },
     "metadata": {},
     "output_type": "display_data"
    }
   ],
   "source": [
    "display(Markdown(mdstring))"
   ]
  },
  {
   "cell_type": "code",
   "execution_count": 7,
   "metadata": {},
   "outputs": [],
   "source": [
    "with open('QA.md','w+') as f:\n",
    "    f.writelines(mdstring)"
   ]
  }
 ],
 "metadata": {
  "kernelspec": {
   "display_name": "Python 3.6.10 64-bit ('biapy': conda)",
   "language": "python",
   "name": "python361064bitbiapyconda90b498d5aa034964834353159b9677cd"
  },
  "language_info": {
   "codemirror_mode": {
    "name": "ipython",
    "version": 3
   },
   "file_extension": ".py",
   "mimetype": "text/x-python",
   "name": "python",
   "nbconvert_exporter": "python",
   "pygments_lexer": "ipython3",
   "version": "3.7.6"
  },
  "toc": {
   "base_numbering": 1,
   "nav_menu": {},
   "number_sections": false,
   "sideBar": true,
   "skip_h1_title": false,
   "title_cell": "Table of Contents",
   "title_sidebar": "Contents",
   "toc_cell": false,
   "toc_position": {},
   "toc_section_display": true,
   "toc_window_display": false
  },
  "varInspector": {
   "cols": {
    "lenName": 16,
    "lenType": 16,
    "lenVar": 40
   },
   "kernels_config": {
    "python": {
     "delete_cmd_postfix": "",
     "delete_cmd_prefix": "del ",
     "library": "var_list.py",
     "varRefreshCmd": "print(var_dic_list())"
    },
    "r": {
     "delete_cmd_postfix": ") ",
     "delete_cmd_prefix": "rm(",
     "library": "var_list.r",
     "varRefreshCmd": "cat(var_dic_list()) "
    }
   },
   "types_to_exclude": [
    "module",
    "function",
    "builtin_function_or_method",
    "instance",
    "_Feature"
   ],
   "window_display": false
  }
 },
 "nbformat": 4,
 "nbformat_minor": 4
}
